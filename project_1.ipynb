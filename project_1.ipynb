{
 "cells": [
  {
   "cell_type": "code",
   "execution_count": 246,
   "id": "55d57bfb-c9e3-428b-b79c-e7600d9509e3",
   "metadata": {},
   "outputs": [],
   "source": [
    "import pandas as pd\n",
    "import numpy as np"
   ]
  },
  {
   "cell_type": "code",
   "execution_count": 247,
   "id": "b54cd921-70f0-4dd1-ae81-8e7df7ef6286",
   "metadata": {},
   "outputs": [],
   "source": [
    "f1 = './data/nasa_19950731.22-19950831.22.tsv_result_file.csv'"
   ]
  },
  {
   "cell_type": "code",
   "execution_count": 280,
   "id": "916f3b25-ad15-4860-a76b-ba3c3752b046",
   "metadata": {},
   "outputs": [],
   "source": [
    "original_data = pd.read_csv(f1, low_memory=False)"
   ]
  },
  {
   "cell_type": "code",
   "execution_count": 281,
   "id": "ae6864e8-2e3d-400a-ad8f-4785e7fadb32",
   "metadata": {},
   "outputs": [
    {
     "data": {
      "text/html": [
       "<div>\n",
       "<style scoped>\n",
       "    .dataframe tbody tr th:only-of-type {\n",
       "        vertical-align: middle;\n",
       "    }\n",
       "\n",
       "    .dataframe tbody tr th {\n",
       "        vertical-align: top;\n",
       "    }\n",
       "\n",
       "    .dataframe thead th {\n",
       "        text-align: right;\n",
       "    }\n",
       "</style>\n",
       "<table border=\"1\" class=\"dataframe\">\n",
       "  <thead>\n",
       "    <tr style=\"text-align: right;\">\n",
       "      <th></th>\n",
       "      <th>host</th>\n",
       "      <th>sessionID</th>\n",
       "      <th>date (DD-MM-YYYY)</th>\n",
       "      <th>time (HH:MM:SS)</th>\n",
       "      <th>method</th>\n",
       "      <th>url</th>\n",
       "      <th>response</th>\n",
       "    </tr>\n",
       "  </thead>\n",
       "  <tbody>\n",
       "    <tr>\n",
       "      <th>0</th>\n",
       "      <td>in24.inetnebr.com</td>\n",
       "      <td>in24.inetnebr.com_1</td>\n",
       "      <td>31-07-1995</td>\n",
       "      <td>10:30:01</td>\n",
       "      <td>GET</td>\n",
       "      <td>/shuttle/missions/sts-68/news/sts-68-mcc-05.txt</td>\n",
       "      <td>200</td>\n",
       "    </tr>\n",
       "    <tr>\n",
       "      <th>1</th>\n",
       "      <td>uplherc.upl.com</td>\n",
       "      <td>uplherc.upl.com_1</td>\n",
       "      <td>31-07-1995</td>\n",
       "      <td>10:30:07</td>\n",
       "      <td>GET</td>\n",
       "      <td>/</td>\n",
       "      <td>304</td>\n",
       "    </tr>\n",
       "    <tr>\n",
       "      <th>2</th>\n",
       "      <td>uplherc.upl.com</td>\n",
       "      <td>uplherc.upl.com_1</td>\n",
       "      <td>31-07-1995</td>\n",
       "      <td>10:30:08</td>\n",
       "      <td>GET</td>\n",
       "      <td>/images/ksclogo-medium.gif</td>\n",
       "      <td>304</td>\n",
       "    </tr>\n",
       "    <tr>\n",
       "      <th>3</th>\n",
       "      <td>uplherc.upl.com</td>\n",
       "      <td>uplherc.upl.com_1</td>\n",
       "      <td>31-07-1995</td>\n",
       "      <td>10:30:08</td>\n",
       "      <td>GET</td>\n",
       "      <td>/images/MOSAIC-logosmall.gif</td>\n",
       "      <td>304</td>\n",
       "    </tr>\n",
       "    <tr>\n",
       "      <th>4</th>\n",
       "      <td>uplherc.upl.com</td>\n",
       "      <td>uplherc.upl.com_1</td>\n",
       "      <td>31-07-1995</td>\n",
       "      <td>10:30:08</td>\n",
       "      <td>GET</td>\n",
       "      <td>/images/USA-logosmall.gif</td>\n",
       "      <td>304</td>\n",
       "    </tr>\n",
       "  </tbody>\n",
       "</table>\n",
       "</div>"
      ],
      "text/plain": [
       "                host            sessionID date (DD-MM-YYYY) time (HH:MM:SS)  \\\n",
       "0  in24.inetnebr.com  in24.inetnebr.com_1        31-07-1995        10:30:01   \n",
       "1    uplherc.upl.com    uplherc.upl.com_1        31-07-1995        10:30:07   \n",
       "2    uplherc.upl.com    uplherc.upl.com_1        31-07-1995        10:30:08   \n",
       "3    uplherc.upl.com    uplherc.upl.com_1        31-07-1995        10:30:08   \n",
       "4    uplherc.upl.com    uplherc.upl.com_1        31-07-1995        10:30:08   \n",
       "\n",
       "  method                                              url   response  \n",
       "0    GET  /shuttle/missions/sts-68/news/sts-68-mcc-05.txt        200  \n",
       "1    GET                                                /        304  \n",
       "2    GET                       /images/ksclogo-medium.gif        304  \n",
       "3    GET                     /images/MOSAIC-logosmall.gif        304  \n",
       "4    GET                        /images/USA-logosmall.gif        304  "
      ]
     },
     "execution_count": 281,
     "metadata": {},
     "output_type": "execute_result"
    }
   ],
   "source": [
    "original_data.head()"
   ]
  },
  {
   "cell_type": "code",
   "execution_count": 282,
   "id": "cba16582-cbcc-45fe-984e-5cf6373038df",
   "metadata": {},
   "outputs": [],
   "source": [
    "html_requests = original_data[original_data['url'].str.contains(\"html\")]"
   ]
  },
  {
   "cell_type": "code",
   "execution_count": 384,
   "id": "5a4c2994-ae6f-4f1b-86b2-e6d83a023a60",
   "metadata": {},
   "outputs": [
    {
     "data": {
      "text/plain": [
       "(333447, 8)"
      ]
     },
     "execution_count": 384,
     "metadata": {},
     "output_type": "execute_result"
    }
   ],
   "source": [
    "html_requests.shape"
   ]
  },
  {
   "cell_type": "code",
   "execution_count": 284,
   "id": "f30b0375-afe7-4551-a6fb-7c36f390a615",
   "metadata": {},
   "outputs": [],
   "source": [
    "def extract_domain(host):\n",
    "    # Exceptions: list of domain suffixes that need to be handled differently\n",
    "    try:\n",
    "        l = host.split('.')\n",
    "        try:\n",
    "            a = int(l[-1])\n",
    "            return host\n",
    "        except:\n",
    "            return f'{l[-2]}.{l[-1]}'\n",
    "    except:\n",
    "        return host"
   ]
  },
  {
   "cell_type": "code",
   "execution_count": 285,
   "id": "7f6f2333-180a-493f-b75b-79a69e25d4d1",
   "metadata": {},
   "outputs": [
    {
     "name": "stderr",
     "output_type": "stream",
     "text": [
      "/var/folders/zy/wtk5xtjj3ys94jw0_p7ghk8m0000gn/T/ipykernel_29427/3607411476.py:1: SettingWithCopyWarning: \n",
      "A value is trying to be set on a copy of a slice from a DataFrame.\n",
      "Try using .loc[row_indexer,col_indexer] = value instead\n",
      "\n",
      "See the caveats in the documentation: https://pandas.pydata.org/pandas-docs/stable/user_guide/indexing.html#returning-a-view-versus-a-copy\n",
      "  html_requests['domain'] = html_requests['host'].apply(extract_domain)\n"
     ]
    }
   ],
   "source": [
    "html_requests['domain'] = html_requests['host'].apply(extract_domain)"
   ]
  },
  {
   "cell_type": "code",
   "execution_count": 286,
   "id": "1ba635ba-b59f-4a43-83db-68b20ab5bc6a",
   "metadata": {},
   "outputs": [],
   "source": [
    "from collections import defaultdict\n",
    "import pandas as pd\n",
    "\n",
    "\n",
    "# Build Markov chain model\n",
    "def build_markov_chain(df):\n",
    "    sessions = defaultdict(list)\n",
    "    for _, row in df.iterrows():\n",
    "        session_id = row['sessionID']\n",
    "        url = row['url']\n",
    "        sessions[session_id].append(url)\n",
    "    \n",
    "    transitions = defaultdict(lambda: defaultdict(int))\n",
    "    for urls_sequence in sessions.values():\n",
    "        for i in range(len(urls_sequence) - 1):\n",
    "            current_url = urls_sequence[i]\n",
    "            next_url = urls_sequence[i + 1]\n",
    "            transitions[current_url][next_url] += 1\n",
    "    \n",
    "    # Convert transition counts to probabilities\n",
    "    markov_chain = defaultdict(dict)\n",
    "    for current_url, next_urls in transitions.items():\n",
    "        total_transitions = sum(next_urls.values())\n",
    "        for next_url, count in next_urls.items():\n",
    "            markov_chain[current_url][next_url] = count / total_transitions\n",
    "    \n",
    "    return markov_chain\n",
    "\n",
    "# Predict next URL using Markov chain\n",
    "def predict_next_url(markov_chain, current_url):\n",
    "    next_urls = markov_chain.get(current_url, {})\n",
    "    if next_urls:\n",
    "        next_url = max(next_urls, key=next_urls.get)\n",
    "        probability = next_urls[next_url]\n",
    "        return (next_url, probability)\n",
    "    else:\n",
    "        return (None, 0)  # No transition from current URL\n"
   ]
  },
  {
   "cell_type": "code",
   "execution_count": 287,
   "id": "33ee7ece-f637-4b10-826a-1fac6c9878ac",
   "metadata": {},
   "outputs": [],
   "source": [
    "# example usage\n",
    "markov_chain = build_markov_chain(html_requests)"
   ]
  },
  {
   "cell_type": "code",
   "execution_count": 288,
   "id": "9d481382-f518-4f63-9f69-2863a554c602",
   "metadata": {},
   "outputs": [],
   "source": [
    "current = []\n",
    "next = []\n",
    "probability = []"
   ]
  },
  {
   "cell_type": "code",
   "execution_count": 289,
   "id": "a6f50fc0-23de-4e3a-a4de-7575ecf87633",
   "metadata": {},
   "outputs": [],
   "source": [
    "for point in html_requests.url.unique():\n",
    "    next_url, prob = predict_next_url(markov_chain, point)\n",
    "    current.append(point)\n",
    "    next.append(next_url)\n",
    "    probability.append(prob)\n",
    "        "
   ]
  },
  {
   "cell_type": "code",
   "execution_count": 290,
   "id": "b082bcc9-b2f9-43dc-a832-bf72a8d4a359",
   "metadata": {},
   "outputs": [
    {
     "name": "stdout",
     "output_type": "stream",
     "text": [
      "Predicted next URL: ('/shuttle/missions/sts-69/images/images.html', 0.2524977293369664)\n"
     ]
    }
   ],
   "source": [
    "# Predict next URL for a given current URL\n",
    "current_url = '/shuttle/missions/sts-69/movies/movies.html'  # Example current URL\n",
    "next_url = predict_next_url(markov_chain, current_url)\n",
    "print(\"Predicted next URL:\", next_url)"
   ]
  },
  {
   "cell_type": "code",
   "execution_count": 259,
   "id": "68b9b3da-f568-43b9-bb4f-0f227737eb1e",
   "metadata": {},
   "outputs": [],
   "source": [
    "predictions = pd.DataFrame({'Current': current, 'Next':next, 'Probability': probability})"
   ]
  },
  {
   "cell_type": "code",
   "execution_count": 260,
   "id": "d889ca43-8ced-4fdc-9b4e-abaae5f627cd",
   "metadata": {},
   "outputs": [],
   "source": [
    "final = pd.merge(html_requests, predictions, left_on='url', right_on='Current', how='inner')"
   ]
  },
  {
   "cell_type": "code",
   "execution_count": 261,
   "id": "c585a466-4de7-4388-ae2b-ce3a1e113bde",
   "metadata": {},
   "outputs": [],
   "source": [
    "final.to_csv('./data/final_nasa_19950731.22-19950831.22.csv')"
   ]
  },
  {
   "cell_type": "code",
   "execution_count": 262,
   "id": "55b08e2a-9fe7-4bc3-857e-84806030d017",
   "metadata": {},
   "outputs": [],
   "source": [
    "chains = []"
   ]
  },
  {
   "cell_type": "code",
   "execution_count": 263,
   "id": "1a22bdf6-f917-46ce-88ac-a613fd9f2431",
   "metadata": {},
   "outputs": [],
   "source": [
    "for link in current:\n",
    "    queue = []\n",
    "    queue.append(link)\n",
    "    t = [link]\n",
    "    s = set()\n",
    "    while(queue):\n",
    "        x = predict_next_url(markov_chain, queue[0])\n",
    "        if(x==None or x in s):\n",
    "            chains.append(t)\n",
    "            queue.clear()\n",
    "        else:\n",
    "            s.add(x)\n",
    "            t.append(x)\n",
    "            queue.clear()\n",
    "            queue.append(x)"
   ]
  },
  {
   "cell_type": "code",
   "execution_count": 264,
   "id": "f2f4724e-b488-4b7f-a26f-7da2319ecba3",
   "metadata": {},
   "outputs": [
    {
     "data": {
      "text/html": [
       "<div>\n",
       "<style scoped>\n",
       "    .dataframe tbody tr th:only-of-type {\n",
       "        vertical-align: middle;\n",
       "    }\n",
       "\n",
       "    .dataframe tbody tr th {\n",
       "        vertical-align: top;\n",
       "    }\n",
       "\n",
       "    .dataframe thead th {\n",
       "        text-align: right;\n",
       "    }\n",
       "</style>\n",
       "<table border=\"1\" class=\"dataframe\">\n",
       "  <thead>\n",
       "    <tr style=\"text-align: right;\">\n",
       "      <th></th>\n",
       "      <th>Current</th>\n",
       "      <th>Next</th>\n",
       "      <th>Probability</th>\n",
       "    </tr>\n",
       "  </thead>\n",
       "  <tbody>\n",
       "    <tr>\n",
       "      <th>0</th>\n",
       "      <td>/history/skylab/skylab.html</td>\n",
       "      <td>/history/skylab/skylab-1.html</td>\n",
       "      <td>0.213706</td>\n",
       "    </tr>\n",
       "    <tr>\n",
       "      <th>1</th>\n",
       "      <td>/shuttle/missions/sts-69/mission-sts-69.html</td>\n",
       "      <td>/shuttle/resources/orbiters/endeavour.html</td>\n",
       "      <td>0.175067</td>\n",
       "    </tr>\n",
       "    <tr>\n",
       "      <th>2</th>\n",
       "      <td>/history/apollo/apollo-16/apollo-16.html</td>\n",
       "      <td>/history/apollo/apollo-16/apollo-16-info.html</td>\n",
       "      <td>0.333333</td>\n",
       "    </tr>\n",
       "    <tr>\n",
       "      <th>3</th>\n",
       "      <td>/shuttle/resources/orbiters/discovery.html</td>\n",
       "      <td>/shuttle/resources/orbiters/endeavour.html</td>\n",
       "      <td>0.164069</td>\n",
       "    </tr>\n",
       "    <tr>\n",
       "      <th>4</th>\n",
       "      <td>/history/skylab/skylab-1.html</td>\n",
       "      <td>/history/skylab/skylab-2.html</td>\n",
       "      <td>0.475410</td>\n",
       "    </tr>\n",
       "    <tr>\n",
       "      <th>...</th>\n",
       "      <td>...</td>\n",
       "      <td>...</td>\n",
       "      <td>...</td>\n",
       "    </tr>\n",
       "    <tr>\n",
       "      <th>1300</th>\n",
       "      <td>/payloads/processing/vpart2.html</td>\n",
       "      <td>/payloads/processing/vpart2.html</td>\n",
       "      <td>0.500000</td>\n",
       "    </tr>\n",
       "    <tr>\n",
       "      <th>1301</th>\n",
       "      <td>/payloads/processing/vpart11.html</td>\n",
       "      <td>/payloads/processing/vpart11.html</td>\n",
       "      <td>0.944444</td>\n",
       "    </tr>\n",
       "    <tr>\n",
       "      <th>1302</th>\n",
       "      <td>/payloads/processing/vpart0.html</td>\n",
       "      <td>/payloads/processing/vpart0.html</td>\n",
       "      <td>0.500000</td>\n",
       "    </tr>\n",
       "    <tr>\n",
       "      <th>1303</th>\n",
       "      <td>/shuttle/missions/sts-69/images/contact69.html</td>\n",
       "      <td>/shuttle/missions/sts-69/images/contact69.html</td>\n",
       "      <td>0.947368</td>\n",
       "    </tr>\n",
       "    <tr>\n",
       "      <th>1304</th>\n",
       "      <td>/shuttle/missions/sts-69/images/index69.html</td>\n",
       "      <td>/shuttle/missions/sts-69/images/images.html</td>\n",
       "      <td>1.000000</td>\n",
       "    </tr>\n",
       "  </tbody>\n",
       "</table>\n",
       "<p>1305 rows × 3 columns</p>\n",
       "</div>"
      ],
      "text/plain": [
       "                                             Current  \\\n",
       "0                        /history/skylab/skylab.html   \n",
       "1       /shuttle/missions/sts-69/mission-sts-69.html   \n",
       "2           /history/apollo/apollo-16/apollo-16.html   \n",
       "3         /shuttle/resources/orbiters/discovery.html   \n",
       "4                      /history/skylab/skylab-1.html   \n",
       "...                                              ...   \n",
       "1300                /payloads/processing/vpart2.html   \n",
       "1301               /payloads/processing/vpart11.html   \n",
       "1302                /payloads/processing/vpart0.html   \n",
       "1303  /shuttle/missions/sts-69/images/contact69.html   \n",
       "1304    /shuttle/missions/sts-69/images/index69.html   \n",
       "\n",
       "                                                Next  Probability  \n",
       "0                      /history/skylab/skylab-1.html     0.213706  \n",
       "1         /shuttle/resources/orbiters/endeavour.html     0.175067  \n",
       "2      /history/apollo/apollo-16/apollo-16-info.html     0.333333  \n",
       "3         /shuttle/resources/orbiters/endeavour.html     0.164069  \n",
       "4                      /history/skylab/skylab-2.html     0.475410  \n",
       "...                                              ...          ...  \n",
       "1300                /payloads/processing/vpart2.html     0.500000  \n",
       "1301               /payloads/processing/vpart11.html     0.944444  \n",
       "1302                /payloads/processing/vpart0.html     0.500000  \n",
       "1303  /shuttle/missions/sts-69/images/contact69.html     0.947368  \n",
       "1304     /shuttle/missions/sts-69/images/images.html     1.000000  \n",
       "\n",
       "[1305 rows x 3 columns]"
      ]
     },
     "execution_count": 264,
     "metadata": {},
     "output_type": "execute_result"
    }
   ],
   "source": [
    "predictions"
   ]
  },
  {
   "cell_type": "code",
   "execution_count": 265,
   "id": "4780578f-a171-43ab-814c-133fc4397be5",
   "metadata": {},
   "outputs": [],
   "source": [
    "from collections import Counter"
   ]
  },
  {
   "cell_type": "code",
   "execution_count": 266,
   "id": "f76d73a7-fe30-40cc-ac11-23e3af43f17c",
   "metadata": {},
   "outputs": [],
   "source": [
    "types = Counter()\n",
    "for curr in final.Current.values:\n",
    "    c = curr.split('/')\n",
    "    for i in c:\n",
    "        types[i]+=1\n",
    "del types['']"
   ]
  },
  {
   "cell_type": "code",
   "execution_count": 267,
   "id": "64868091-aadc-4495-93b5-8c4479003bf6",
   "metadata": {},
   "outputs": [
    {
     "data": {
      "text/plain": [
       "[('shuttle', 187076),\n",
       " ('missions', 127330),\n",
       " ('history', 58453),\n",
       " ('ksc.html', 43821),\n",
       " ('sts-69', 40936),\n",
       " ('apollo', 35107),\n",
       " ('technology', 29149),\n",
       " ('sts-newsref', 29138),\n",
       " ('mission-sts-69.html', 24626),\n",
       " ('missions.html', 22488)]"
      ]
     },
     "execution_count": 267,
     "metadata": {},
     "output_type": "execute_result"
    }
   ],
   "source": [
    "types.most_common(10)"
   ]
  },
  {
   "cell_type": "code",
   "execution_count": 268,
   "id": "16b8daa5-66cf-4ba5-a352-6f7003606c64",
   "metadata": {},
   "outputs": [
    {
     "data": {
      "text/plain": [
       "{'/history/skylab/skylab-1.html': 0.21370604147880973,\n",
       " '/history/skylab/skylab-2.html': 0.1704238052299369,\n",
       " '/facilities/lcc.html': 0.002705139765554554,\n",
       " '/history/skylab/skylab.html': 0.027051397655545536,\n",
       " '/history/skylab/skylab-4.html': 0.15058611361587015,\n",
       " '/history/history.html': 0.09467989179440937,\n",
       " '/shuttle/missions/missions.html': 0.046889089269612265,\n",
       " '/shuttle/missions/sts-71/mission-sts-71.html': 0.0018034265103697023,\n",
       " '/shuttle/missions/sts-70/movies/movies.html': 0.0018034265103697023,\n",
       " '/history/apollo/apollo-16/apollo-16-info.html': 0.0009017132551848512,\n",
       " '/shuttle/technology/sts-newsref/stsref-toc.html': 0.0009017132551848512,\n",
       " '/history/apollo/apollo.html': 0.04869251577998197,\n",
       " '/history/skylab/skylab-3.html': 0.03787195671776375,\n",
       " '/history/mercury/mercury.html': 0.02164111812443643,\n",
       " '/shuttle/missions/sts-1/mission-sts-1.html': 0.0018034265103697023,\n",
       " '/shuttle/missions/41-b/mission-41-b.html': 0.0009017132551848512,\n",
       " '/ksc.html': 0.06492335437330929,\n",
       " ':/facilities/tour.html': 0.0009017132551848512,\n",
       " '/history/gemini/gemini.html': 0.015329125338142471,\n",
       " '/history/astp/astp.html': 0.04418394950405771,\n",
       " '/history/apollo/apollo-13/apollo-13.html': 0.0018034265103697023,\n",
       " '/shuttle/missions/sts-60/sts-60-info.html': 0.0009017132551848512,\n",
       " '/shuttle/resources/orbiters/columbia.html': 0.0018034265103697023,\n",
       " '/shuttle/missions/sts-70/images/images.html': 0.002705139765554554,\n",
       " '/shuttle/technology/sts-newsref/carriers.html': 0.0009017132551848512,\n",
       " '/shuttle/technology/sts-newsref/stsover.html': 0.002705139765554554,\n",
       " '/shuttle/missions/sts-73/mission-sts-73.html': 0.0018034265103697023,\n",
       " '/persons/nasa-cm/jmd.html': 0.0018034265103697023,\n",
       " '/facilities/press.html': 0.0009017132551848512,\n",
       " '/shuttle/countdown/tour.html': 0.0009017132551848512,\n",
       " '/shuttle/missions/sts-62/mission-sts-62.html': 0.0018034265103697023,\n",
       " '/shuttle/missions/sts-70/woodpecker.html': 0.0009017132551848512,\n",
       " '/shuttle/missions/100th.html': 0.0009017132551848512,\n",
       " '/history/mercury/ma-7/ma-7.html': 0.0009017132551848512,\n",
       " '/shuttle/missions/sts-69/movies/movies.html': 0.0018034265103697023,\n",
       " '/shuttle/missions/51-b/mission-51-b.html': 0.0009017132551848512,\n",
       " '/facilities/vab.html': 0.0018034265103697023,\n",
       " '/shuttle/resources/orbiters/orbiters.html': 0.0009017132551848512,\n",
       " '/facts/facts.html': 0.0009017132551848512,\n",
       " '/apod/lib/glossary.html': 0.0009017132551848512,\n",
       " '/shuttle/missions/51-l/51-l-info.html': 0.0009017132551848512,\n",
       " '/history/apollo/apollo-17/apollo-17.html': 0.0009017132551848512,\n",
       " '/shuttle/missions/sts-69/mission-sts-69.html': 0.005410279531109108,\n",
       " '/history/apollo/apollo-sa.html': 0.0018034265103697023,\n",
       " '/history/apollo/apollo-11/apollo-11.html': 0.002705139765554554,\n",
       " '/statistics/1995/Jul/Jul95.html': 0.0009017132551848512,\n",
       " '/shuttle/missions/sts-63/mission-sts-63.html': 0.0009017132551848512,\n",
       " '/shuttle/missions/sts-70/sts-70-day-03-highlights.html': 0.0009017132551848512,\n",
       " '/shuttle/missions/sts-70/mission-sts-70.html': 0.0018034265103697023,\n",
       " '/shuttle/missions/sts-71/movies/movies.html': 0.0009017132551848512,\n",
       " '/history/skylab/skylab-images.html': 0.0009017132551848512,\n",
       " '/shuttle/missions/sts-37/mission-sts-37.html': 0.0009017132551848512,\n",
       " '/shuttle/missions/sts-71/images/images.html': 0.0009017132551848512,\n",
       " '/procurement/procurement.html': 0.0009017132551848512,\n",
       " '/shuttle/missions/sts-69/liftoff.html': 0.0009017132551848512,\n",
       " '/shuttle/missions/sts-68/mission-sts-68.html': 0.0009017132551848512,\n",
       " '/shuttle/technology/sts-newsref/sts_coord.html': 0.0009017132551848512,\n",
       " '/shuttle/missions/sts-6/mission-sts-6.html': 0.0009017132551848512}"
      ]
     },
     "execution_count": 268,
     "metadata": {},
     "output_type": "execute_result"
    }
   ],
   "source": [
    "# Example\n",
    "markov_chain['/history/skylab/skylab.html']"
   ]
  },
  {
   "cell_type": "code",
   "execution_count": 269,
   "id": "db2aec07-b851-45a2-8349-9c70641aedf2",
   "metadata": {},
   "outputs": [
    {
     "data": {
      "image/png": "[encoded data removed]",
      "text/plain": [
       "<Figure size 1000x600 with 1 Axes>"
      ]
     },
     "metadata": {},
     "output_type": "display_data"
    }
   ],
   "source": [
    "import matplotlib.pyplot as plt\n",
    "import squarify\n",
    "\n",
    "# Data\n",
    "data = types.most_common(10)\n",
    "\n",
    "# Extract labels and sizes\n",
    "labels = [item[0] for item in data]\n",
    "sizes = [item[1] for item in data]\n",
    "\n",
    "# Plot treemap\n",
    "plt.figure(figsize=(10, 6))\n",
    "squarify.plot(sizes=sizes, label=labels, alpha=0.7)\n",
    "plt.axis('off')\n",
    "plt.title('Treemap of Topics Accessed Most')\n",
    "plt.show()\n"
   ]
  },
  {
   "cell_type": "code",
   "execution_count": 270,
   "id": "78a6ce1f-31f0-4d94-bdc1-6dc762e13ed2",
   "metadata": {},
   "outputs": [],
   "source": [
    "df = final.copy()"
   ]
  },
  {
   "cell_type": "code",
   "execution_count": 271,
   "id": "b1cfe4d6-5175-4d30-9e6e-6c0d8e848bc0",
   "metadata": {},
   "outputs": [],
   "source": [
    "def is_history(value):\n",
    "    if 'hist' in value.lower():\n",
    "        return 1\n",
    "    else:\n",
    "        return 0\n",
    "def is_shuttle(value):\n",
    "    if 'shutt' in value.lower():\n",
    "        return 1\n",
    "    else:\n",
    "        return 0\n",
    "def is_missions(value):\n",
    "    if 'mission' in value.lower():\n",
    "        return 1\n",
    "    else:\n",
    "        return 0\n",
    "def is_ksc(value):\n",
    "    if 'ksc' in value.lower():\n",
    "        return 1\n",
    "    else:\n",
    "        return 0\n",
    "def is_sts(value):\n",
    "    if 'sts' in value.lower():\n",
    "        return 1\n",
    "    else:\n",
    "        return 0"
   ]
  },
  {
   "cell_type": "code",
   "execution_count": 272,
   "id": "c6ec8ab7-a50c-4c67-999e-16e2b9f61c90",
   "metadata": {},
   "outputs": [],
   "source": [
    "df['history'] = df['Current'].apply(is_history)\n",
    "df['shuttle'] = df['Current'].apply(is_shuttle)\n",
    "df['missions'] = df['Current'].apply(is_missions)\n",
    "df['ksc'] = df['Current'].apply(is_ksc)\n",
    "df['sts'] = df['Current'].apply(is_sts)"
   ]
  },
  {
   "cell_type": "code",
   "execution_count": 273,
   "id": "9ad1b523-4238-46ba-b64e-c390fdce78f8",
   "metadata": {},
   "outputs": [
    {
     "data": {
      "text/html": [
       "<div>\n",
       "<style scoped>\n",
       "    .dataframe tbody tr th:only-of-type {\n",
       "        vertical-align: middle;\n",
       "    }\n",
       "\n",
       "    .dataframe tbody tr th {\n",
       "        vertical-align: top;\n",
       "    }\n",
       "\n",
       "    .dataframe thead th {\n",
       "        text-align: right;\n",
       "    }\n",
       "</style>\n",
       "<table border=\"1\" class=\"dataframe\">\n",
       "  <thead>\n",
       "    <tr style=\"text-align: right;\">\n",
       "      <th></th>\n",
       "      <th>host</th>\n",
       "      <th>sessionID</th>\n",
       "      <th>date (DD-MM-YYYY)</th>\n",
       "      <th>time (HH:MM:SS)</th>\n",
       "      <th>method</th>\n",
       "      <th>url</th>\n",
       "      <th>response</th>\n",
       "      <th>domain</th>\n",
       "      <th>Current</th>\n",
       "      <th>Next</th>\n",
       "      <th>Probability</th>\n",
       "      <th>history</th>\n",
       "      <th>shuttle</th>\n",
       "      <th>missions</th>\n",
       "      <th>ksc</th>\n",
       "      <th>sts</th>\n",
       "    </tr>\n",
       "  </thead>\n",
       "  <tbody>\n",
       "    <tr>\n",
       "      <th>0</th>\n",
       "      <td>slppp6.intermind.net</td>\n",
       "      <td>slppp6.intermind.net_1</td>\n",
       "      <td>31-07-1995</td>\n",
       "      <td>10:30:10</td>\n",
       "      <td>GET</td>\n",
       "      <td>/history/skylab/skylab.html</td>\n",
       "      <td>200</td>\n",
       "      <td>intermind.net</td>\n",
       "      <td>/history/skylab/skylab.html</td>\n",
       "      <td>/history/skylab/skylab-1.html</td>\n",
       "      <td>0.213706</td>\n",
       "      <td>1</td>\n",
       "      <td>0</td>\n",
       "      <td>0</td>\n",
       "      <td>0</td>\n",
       "      <td>0</td>\n",
       "    </tr>\n",
       "    <tr>\n",
       "      <th>1</th>\n",
       "      <td>www-b5.proxy.aol.com</td>\n",
       "      <td>www-b5.proxy.aol.com_1</td>\n",
       "      <td>31-07-1995</td>\n",
       "      <td>11:01:04</td>\n",
       "      <td>GET</td>\n",
       "      <td>/history/skylab/skylab.html</td>\n",
       "      <td>200</td>\n",
       "      <td>aol.com</td>\n",
       "      <td>/history/skylab/skylab.html</td>\n",
       "      <td>/history/skylab/skylab-1.html</td>\n",
       "      <td>0.213706</td>\n",
       "      <td>1</td>\n",
       "      <td>0</td>\n",
       "      <td>0</td>\n",
       "      <td>0</td>\n",
       "      <td>0</td>\n",
       "    </tr>\n",
       "    <tr>\n",
       "      <th>2</th>\n",
       "      <td>h96-158.ccnet.com</td>\n",
       "      <td>h96-158.ccnet.com_1</td>\n",
       "      <td>31-07-1995</td>\n",
       "      <td>12:11:41</td>\n",
       "      <td>GET</td>\n",
       "      <td>/history/skylab/skylab.html</td>\n",
       "      <td>200</td>\n",
       "      <td>ccnet.com</td>\n",
       "      <td>/history/skylab/skylab.html</td>\n",
       "      <td>/history/skylab/skylab-1.html</td>\n",
       "      <td>0.213706</td>\n",
       "      <td>1</td>\n",
       "      <td>0</td>\n",
       "      <td>0</td>\n",
       "      <td>0</td>\n",
       "      <td>0</td>\n",
       "    </tr>\n",
       "    <tr>\n",
       "      <th>3</th>\n",
       "      <td>204.199.188.113</td>\n",
       "      <td>204.199.188.113_1</td>\n",
       "      <td>31-07-1995</td>\n",
       "      <td>12:18:59</td>\n",
       "      <td>GET</td>\n",
       "      <td>/history/skylab/skylab.html</td>\n",
       "      <td>200</td>\n",
       "      <td>204.199.188.113</td>\n",
       "      <td>/history/skylab/skylab.html</td>\n",
       "      <td>/history/skylab/skylab-1.html</td>\n",
       "      <td>0.213706</td>\n",
       "      <td>1</td>\n",
       "      <td>0</td>\n",
       "      <td>0</td>\n",
       "      <td>0</td>\n",
       "      <td>0</td>\n",
       "    </tr>\n",
       "    <tr>\n",
       "      <th>4</th>\n",
       "      <td>bettong.client.uq.oz.au</td>\n",
       "      <td>bettong.client.uq.oz.au_1</td>\n",
       "      <td>31-07-1995</td>\n",
       "      <td>12:31:24</td>\n",
       "      <td>GET</td>\n",
       "      <td>/history/skylab/skylab.html</td>\n",
       "      <td>200</td>\n",
       "      <td>oz.au</td>\n",
       "      <td>/history/skylab/skylab.html</td>\n",
       "      <td>/history/skylab/skylab-1.html</td>\n",
       "      <td>0.213706</td>\n",
       "      <td>1</td>\n",
       "      <td>0</td>\n",
       "      <td>0</td>\n",
       "      <td>0</td>\n",
       "      <td>0</td>\n",
       "    </tr>\n",
       "  </tbody>\n",
       "</table>\n",
       "</div>"
      ],
      "text/plain": [
       "                      host                  sessionID date (DD-MM-YYYY)  \\\n",
       "0     slppp6.intermind.net     slppp6.intermind.net_1        31-07-1995   \n",
       "1     www-b5.proxy.aol.com     www-b5.proxy.aol.com_1        31-07-1995   \n",
       "2        h96-158.ccnet.com        h96-158.ccnet.com_1        31-07-1995   \n",
       "3          204.199.188.113          204.199.188.113_1        31-07-1995   \n",
       "4  bettong.client.uq.oz.au  bettong.client.uq.oz.au_1        31-07-1995   \n",
       "\n",
       "  time (HH:MM:SS) method                          url   response  \\\n",
       "0        10:30:10    GET  /history/skylab/skylab.html        200   \n",
       "1        11:01:04    GET  /history/skylab/skylab.html        200   \n",
       "2        12:11:41    GET  /history/skylab/skylab.html        200   \n",
       "3        12:18:59    GET  /history/skylab/skylab.html        200   \n",
       "4        12:31:24    GET  /history/skylab/skylab.html        200   \n",
       "\n",
       "            domain                      Current  \\\n",
       "0    intermind.net  /history/skylab/skylab.html   \n",
       "1          aol.com  /history/skylab/skylab.html   \n",
       "2        ccnet.com  /history/skylab/skylab.html   \n",
       "3  204.199.188.113  /history/skylab/skylab.html   \n",
       "4            oz.au  /history/skylab/skylab.html   \n",
       "\n",
       "                            Next  Probability  history  shuttle  missions  \\\n",
       "0  /history/skylab/skylab-1.html     0.213706        1        0         0   \n",
       "1  /history/skylab/skylab-1.html     0.213706        1        0         0   \n",
       "2  /history/skylab/skylab-1.html     0.213706        1        0         0   \n",
       "3  /history/skylab/skylab-1.html     0.213706        1        0         0   \n",
       "4  /history/skylab/skylab-1.html     0.213706        1        0         0   \n",
       "\n",
       "   ksc  sts  \n",
       "0    0    0  \n",
       "1    0    0  \n",
       "2    0    0  \n",
       "3    0    0  \n",
       "4    0    0  "
      ]
     },
     "execution_count": 273,
     "metadata": {},
     "output_type": "execute_result"
    }
   ],
   "source": [
    "df.head()"
   ]
  },
  {
   "cell_type": "code",
   "execution_count": 274,
   "id": "d494bbf7-0602-4afd-872d-2bb43291ba17",
   "metadata": {},
   "outputs": [
    {
     "data": {
      "image/png": "[encoded data removed]",
      "text/plain": [
       "<Figure size 640x480 with 1 Axes>"
      ]
     },
     "metadata": {},
     "output_type": "display_data"
    }
   ],
   "source": [
    "import pandas as pd\n",
    "from matplotlib import pyplot as plt\n",
    "from matplotlib_venn import venn3\n",
    "\n",
    "\n",
    "# Create sets for Venn diagram\n",
    "sets = {\n",
    "    'history': set(df[df['history'] == 1]['host']),\n",
    "    'shuttle': set(df[df['shuttle'] == 1]['host']),\n",
    "    'missions': set(df[df['missions'] == 1]['host']),\n",
    "    'ksc': set(df[df['ksc'] == 1]['host']),\n",
    "    'sts': set(df[df['sts'] == 1]['host'])\n",
    "}\n",
    "\n",
    "# Plot Venn diagram\n",
    "venn3([sets['history'], sets['shuttle'], sets['ksc']], ('History', 'Shuttle', 'KSC'))\n",
    "plt.title('Number of users vising these domains')\n",
    "plt.show()\n"
   ]
  },
  {
   "cell_type": "code",
   "execution_count": 291,
   "id": "4ad7a94b-7ca6-4c0e-8334-7e7ec4c8139a",
   "metadata": {},
   "outputs": [],
   "source": [
    "dataset = pd.read_csv(f1, low_memory=False)"
   ]
  },
  {
   "cell_type": "code",
   "execution_count": 295,
   "id": "fa194759-67c4-407f-ac86-41d5b11d259e",
   "metadata": {},
   "outputs": [
    {
     "data": {
      "text/html": [
       "<div>\n",
       "<style scoped>\n",
       "    .dataframe tbody tr th:only-of-type {\n",
       "        vertical-align: middle;\n",
       "    }\n",
       "\n",
       "    .dataframe tbody tr th {\n",
       "        vertical-align: top;\n",
       "    }\n",
       "\n",
       "    .dataframe thead th {\n",
       "        text-align: right;\n",
       "    }\n",
       "</style>\n",
       "<table border=\"1\" class=\"dataframe\">\n",
       "  <thead>\n",
       "    <tr style=\"text-align: right;\">\n",
       "      <th></th>\n",
       "      <th>host</th>\n",
       "      <th>sessionID</th>\n",
       "      <th>date (DD-MM-YYYY)</th>\n",
       "      <th>time (HH:MM:SS)</th>\n",
       "      <th>method</th>\n",
       "      <th>url</th>\n",
       "      <th>response</th>\n",
       "    </tr>\n",
       "  </thead>\n",
       "  <tbody>\n",
       "    <tr>\n",
       "      <th>0</th>\n",
       "      <td>in24.inetnebr.com</td>\n",
       "      <td>in24.inetnebr.com_1</td>\n",
       "      <td>31-07-1995</td>\n",
       "      <td>10:30:01</td>\n",
       "      <td>GET</td>\n",
       "      <td>/shuttle/missions/sts-68/news/sts-68-mcc-05.txt</td>\n",
       "      <td>200</td>\n",
       "    </tr>\n",
       "    <tr>\n",
       "      <th>1</th>\n",
       "      <td>uplherc.upl.com</td>\n",
       "      <td>uplherc.upl.com_1</td>\n",
       "      <td>31-07-1995</td>\n",
       "      <td>10:30:07</td>\n",
       "      <td>GET</td>\n",
       "      <td>/</td>\n",
       "      <td>304</td>\n",
       "    </tr>\n",
       "    <tr>\n",
       "      <th>2</th>\n",
       "      <td>uplherc.upl.com</td>\n",
       "      <td>uplherc.upl.com_1</td>\n",
       "      <td>31-07-1995</td>\n",
       "      <td>10:30:08</td>\n",
       "      <td>GET</td>\n",
       "      <td>/images/ksclogo-medium.gif</td>\n",
       "      <td>304</td>\n",
       "    </tr>\n",
       "    <tr>\n",
       "      <th>3</th>\n",
       "      <td>uplherc.upl.com</td>\n",
       "      <td>uplherc.upl.com_1</td>\n",
       "      <td>31-07-1995</td>\n",
       "      <td>10:30:08</td>\n",
       "      <td>GET</td>\n",
       "      <td>/images/MOSAIC-logosmall.gif</td>\n",
       "      <td>304</td>\n",
       "    </tr>\n",
       "    <tr>\n",
       "      <th>4</th>\n",
       "      <td>uplherc.upl.com</td>\n",
       "      <td>uplherc.upl.com_1</td>\n",
       "      <td>31-07-1995</td>\n",
       "      <td>10:30:08</td>\n",
       "      <td>GET</td>\n",
       "      <td>/images/USA-logosmall.gif</td>\n",
       "      <td>304</td>\n",
       "    </tr>\n",
       "  </tbody>\n",
       "</table>\n",
       "</div>"
      ],
      "text/plain": [
       "                host            sessionID date (DD-MM-YYYY) time (HH:MM:SS)  \\\n",
       "0  in24.inetnebr.com  in24.inetnebr.com_1        31-07-1995        10:30:01   \n",
       "1    uplherc.upl.com    uplherc.upl.com_1        31-07-1995        10:30:07   \n",
       "2    uplherc.upl.com    uplherc.upl.com_1        31-07-1995        10:30:08   \n",
       "3    uplherc.upl.com    uplherc.upl.com_1        31-07-1995        10:30:08   \n",
       "4    uplherc.upl.com    uplherc.upl.com_1        31-07-1995        10:30:08   \n",
       "\n",
       "  method                                              url   response  \n",
       "0    GET  /shuttle/missions/sts-68/news/sts-68-mcc-05.txt        200  \n",
       "1    GET                                                /        304  \n",
       "2    GET                       /images/ksclogo-medium.gif        304  \n",
       "3    GET                     /images/MOSAIC-logosmall.gif        304  \n",
       "4    GET                        /images/USA-logosmall.gif        304  "
      ]
     },
     "execution_count": 295,
     "metadata": {},
     "output_type": "execute_result"
    }
   ],
   "source": [
    "dataset.head()"
   ]
  },
  {
   "cell_type": "code",
   "execution_count": 292,
   "id": "32916176-d952-49ea-ba14-d816e5f6e831",
   "metadata": {},
   "outputs": [
    {
     "data": {
      "text/plain": [
       "host                 2\n",
       "sessionID            2\n",
       "date (DD-MM-YYYY)    2\n",
       "time (HH:MM:SS)      2\n",
       "method               2\n",
       "url                  2\n",
       " response            2\n",
       "dtype: int64"
      ]
     },
     "execution_count": 292,
     "metadata": {},
     "output_type": "execute_result"
    }
   ],
   "source": [
    "dataset[dataset['url'].str.contains('mp4')].count()"
   ]
  },
  {
   "cell_type": "code",
   "execution_count": 293,
   "id": "9200257d-070b-4f72-b6f9-aea0ae98268f",
   "metadata": {},
   "outputs": [
    {
     "data": {
      "text/plain": [
       "host                 257055\n",
       "sessionID            257055\n",
       "date (DD-MM-YYYY)    257055\n",
       "time (HH:MM:SS)      257055\n",
       "method               257055\n",
       "url                  257055\n",
       " response            257055\n",
       "dtype: int64"
      ]
     },
     "execution_count": 293,
     "metadata": {},
     "output_type": "execute_result"
    }
   ],
   "source": [
    "dataset[~dataset['url'].str.contains(r'\\.gif$|\\.html$|\\.jpeg$|\\.jpg$|\\.mp4$', regex=True, case=False)].count()"
   ]
  },
  {
   "cell_type": "code",
   "execution_count": 395,
   "id": "9aafb180-f040-48ed-8e8f-0d22c5d6b9b1",
   "metadata": {},
   "outputs": [],
   "source": [
    "def get_actual_next_url(final, sessionID, current_url):\n",
    "    session_data = final[final['sessionID'] == sessionID]\n",
    "    urls = session_data['url'].tolist()\n",
    "    if current_url in urls:\n",
    "        index = urls.index(current_url)\n",
    "        if index < len(urls) - 1:\n",
    "            return urls[index + 1]\n",
    "        else:\n",
    "            return None  # No next URL\n",
    "    else:\n",
    "        return None  # Current URL not found in session\n",
    "\n",
    "# # Example usage\n",
    "# next_url = get_actual_next_url(df, 'slppp6.intermind.net_1', '/history/skylab/skylab.html')\n",
    "# print(\"Next URL:\", next_url)\n"
   ]
  },
  {
   "cell_type": "code",
   "execution_count": 418,
   "id": "c91a06e0-8f69-4866-ad88-6b3185c25489",
   "metadata": {},
   "outputs": [],
   "source": [
    "x = []"
   ]
  },
  {
   "cell_type": "code",
   "execution_count": 419,
   "id": "3450013f-6350-41f7-ba04-7a7602d37f1d",
   "metadata": {},
   "outputs": [],
   "source": [
    "c=0\n",
    "for idx, row in final.iterrows():\n",
    "    c+=1\n",
    "    if(c<=20000):\n",
    "        n = get_actual_next_url(final, row['sessionID'], row['url'])\n",
    "        x.append(n)\n",
    "    else:\n",
    "        break"
   ]
  },
  {
   "cell_type": "code",
   "execution_count": 420,
   "id": "b626b5d6-d523-438d-8c55-0be641685967",
   "metadata": {},
   "outputs": [
    {
     "data": {
      "text/plain": [
       "20000"
      ]
     },
     "execution_count": 420,
     "metadata": {},
     "output_type": "execute_result"
    }
   ],
   "source": [
    "len(x)"
   ]
  },
  {
   "cell_type": "code",
   "execution_count": 421,
   "id": "2fd66e8b-9156-4c87-9eb2-f26724700535",
   "metadata": {},
   "outputs": [],
   "source": [
    "first_20000 = final.iloc[:20000, :].Next.to_list()"
   ]
  },
  {
   "cell_type": "code",
   "execution_count": 423,
   "id": "229c3617-aa27-4d3f-a89e-a3e7f6fc2000",
   "metadata": {},
   "outputs": [],
   "source": [
    "tr = 0\n",
    "fa = 0\n",
    "for i in range(len(x)):\n",
    "    if(x[i]==first_20000[i]):\n",
    "        tr+=1\n",
    "    else:\n",
    "        fa+=1"
   ]
  },
  {
   "cell_type": "code",
   "execution_count": 424,
   "id": "72825d8c-2bd0-461a-8154-31760f57432f",
   "metadata": {},
   "outputs": [
    {
     "data": {
      "text/plain": [
       "0.11005"
      ]
     },
     "execution_count": 424,
     "metadata": {},
     "output_type": "execute_result"
    }
   ],
   "source": [
    "tr/ (tr+fa)"
   ]
  },
  {
   "cell_type": "code",
   "execution_count": null,
   "id": "0566fb39-ccf0-4b1c-a74f-cf01a81757f5",
   "metadata": {},
   "outputs": [],
   "source": []
  }
 ],
 "metadata": {
  "kernelspec": {
   "display_name": "Python 3 (ipykernel)",
   "language": "python",
   "name": "python3"
  },
  "language_info": {
   "codemirror_mode": {
    "name": "ipython",
    "version": 3
   },
   "file_extension": ".py",
   "mimetype": "text/x-python",
   "name": "python",
   "nbconvert_exporter": "python",
   "pygments_lexer": "ipython3",
   "version": "3.11.7"
  }
 },
 "nbformat": 4,
 "nbformat_minor": 5
}
